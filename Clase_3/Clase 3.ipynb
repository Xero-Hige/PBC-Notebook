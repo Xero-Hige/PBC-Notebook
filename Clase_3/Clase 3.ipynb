{
 "cells": [
  {
   "cell_type": "markdown",
   "metadata": {},
   "source": [
    "# Cosas"
   ]
  },
  {
   "cell_type": "markdown",
   "metadata": {
    "collapsed": true
   },
   "source": [
    "bla bla"
   ]
  },
  {
   "cell_type": "code",
   "execution_count": 2,
   "metadata": {
    "collapsed": false
   },
   "outputs": [
    {
     "name": "stdout",
     "output_type": "stream",
     "text": [
      "\r\n",
      "------ Message Queues --------\r\n",
      "key        msqid      owner      perms      used-bytes   messages    \r\n",
      "\r\n",
      "------ Shared Memory Segments --------\r\n",
      "key        shmid      owner      perms      bytes      nattch     status      \r\n",
      "\r\n",
      "------ Semaphore Arrays --------\r\n",
      "key        semid      owner      perms      nsems     \r\n",
      "\r\n"
     ]
    }
   ],
   "source": [
    "ipcs"
   ]
  },
  {
   "cell_type": "code",
   "execution_count": 3,
   "metadata": {
    "collapsed": false
   },
   "outputs": [
    {
     "name": "stderr",
     "output_type": "stream",
     "text": []
    },
    {
     "name": "stdout",
     "output_type": "stream",
     "text": []
    }
   ],
   "source": [
    "#define _GNU_SOURCE\n",
    "\n",
    "#include <time.h>\n",
    "#include <unistd.h>\n",
    "#include <sys/types.h>\n",
    "#include <sys/wait.h>\n",
    "#include<sys/ipc.h>\n",
    "#include<sys/shm.h>\n",
    "\n",
    "int shmid;\n",
    "int shmkey = 12222;//u can choose it as your choice\n",
    "\n",
    "int main (int argc,char** argv){\n",
    "    \n",
    "    shmid = shmget(shmkey,1024,IPC_CREAT);\n",
    "    char *shmpointer = shmat(shmid,NULL,0);\n",
    "\n",
    "    return 0;\n",
    "}"
   ]
  },
  {
   "cell_type": "code",
   "execution_count": 1,
   "metadata": {
    "collapsed": false
   },
   "outputs": [
    {
     "name": "stdout",
     "output_type": "stream",
     "text": [
      "\r\n",
      "------ Message Queues --------\r\n",
      "key        msqid      owner      perms      used-bytes   messages    \r\n",
      "\r\n",
      "------ Shared Memory Segments --------\r\n",
      "key        shmid      owner      perms      bytes      nattch     status      \r\n",
      "0x00002fbe 0          root       0          1024       0                       \r\n",
      "\r\n",
      "------ Semaphore Arrays --------\r\n",
      "key        semid      owner      perms      nsems     \r\n",
      "\r\n"
     ]
    }
   ],
   "source": [
    "ipcs"
   ]
  },
  {
   "cell_type": "code",
   "execution_count": 3,
   "metadata": {
    "collapsed": false
   },
   "outputs": [
    {
     "name": "stdout",
     "output_type": "stream",
     "text": [
      "resource(s) deleted\r\n"
     ]
    }
   ],
   "source": [
    "ipcrm shm 0"
   ]
  },
  {
   "cell_type": "code",
   "execution_count": 4,
   "metadata": {
    "collapsed": false
   },
   "outputs": [
    {
     "name": "stdout",
     "output_type": "stream",
     "text": [
      "\r\n",
      "------ Message Queues --------\r\n",
      "key        msqid      owner      perms      used-bytes   messages    \r\n",
      "\r\n",
      "------ Shared Memory Segments --------\r\n",
      "key        shmid      owner      perms      bytes      nattch     status      \r\n",
      "\r\n",
      "------ Semaphore Arrays --------\r\n",
      "key        semid      owner      perms      nsems     \r\n",
      "\r\n"
     ]
    }
   ],
   "source": [
    "ipcs"
   ]
  }
 ],
 "metadata": {
  "kernelspec": {
   "display_name": "C",
   "language": "c",
   "name": "c_kernel"
  },
  "language_info": {
   "file_extension": "c",
   "mimetype": "text/plain",
   "name": "c"
  }
 },
 "nbformat": 4,
 "nbformat_minor": 1
}
