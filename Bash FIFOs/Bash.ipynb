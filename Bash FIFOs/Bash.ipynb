{
 "cells": [
  {
   "cell_type": "code",
   "execution_count": 1,
   "metadata": {
    "collapsed": false
   },
   "outputs": [
    {
     "name": "stdout",
     "output_type": "stream",
     "text": []
    }
   ],
   "source": [
    "touch /tmp/mi_fifo"
   ]
  },
  {
   "cell_type": "code",
   "execution_count": 2,
   "metadata": {
    "collapsed": false
   },
   "outputs": [
    {
     "name": "stdout",
     "output_type": "stream",
     "text": [
      "mkfifo: cannot create fifo '/tmp/mi_fifo': File exists\r\n"
     ]
    }
   ],
   "source": [
    "fifo=/tmp/mi_fifo\n",
    "\n",
    "mkfifo $fifo"
   ]
  },
  {
   "cell_type": "code",
   "execution_count": 3,
   "metadata": {
    "collapsed": false
   },
   "outputs": [
    {
     "name": "stdout",
     "output_type": "stream",
     "text": []
    }
   ],
   "source": [
    "rm /tmp/mi_fifo\n",
    "\n",
    "mkfifo $fifo"
   ]
  },
  {
   "cell_type": "code",
   "execution_count": 4,
   "metadata": {
    "collapsed": false
   },
   "outputs": [
    {
     "name": "stdout",
     "output_type": "stream",
     "text": [
      "total 0\r\n",
      "prw-r--r-- 1 root root 0 Sep 14 18:18 mi_fifo\r\n"
     ]
    }
   ],
   "source": [
    "ls /tmp -l"
   ]
  },
  {
   "cell_type": "code",
   "execution_count": 5,
   "metadata": {
    "collapsed": false
   },
   "outputs": [
    {
     "name": "stdout",
     "output_type": "stream",
     "text": [
      "\r\n",
      "------ Message Queues --------\r\n",
      "key        msqid      owner      perms      used-bytes   messages    \r\n",
      "\r\n",
      "------ Shared Memory Segments --------\r\n",
      "key        shmid      owner      perms      bytes      nattch     status      \r\n",
      "\r\n",
      "------ Semaphore Arrays --------\r\n",
      "key        semid      owner      perms      nsems     \r\n",
      "\r\n"
     ]
    }
   ],
   "source": [
    "ipcs"
   ]
  },
  {
   "cell_type": "code",
   "execution_count": null,
   "metadata": {
    "collapsed": true
   },
   "outputs": [],
   "source": [
    "#script 3 (lectores/consumidores)\n",
    "\n",
    "#!/bin/bash\n",
    "\n",
    "fifo=/tmp/mi_fifo\n",
    "\n",
    "while true\n",
    "\n",
    "    do\n",
    "\n",
    "    sleep 6s\n",
    "\n",
    "    read line <$fifo\n",
    "\n",
    "    echo $line\n",
    "\n",
    "    if [[ \"$line\" == ’quit’ ]]; then\n",
    "\n",
    "        break\n",
    "\n",
    "    fi\n",
    "\n",
    "done"
   ]
  },
  {
   "cell_type": "code",
   "execution_count": null,
   "metadata": {
    "collapsed": true
   },
   "outputs": [],
   "source": [
    "#script 1 (escritores/productores)\n",
    "\n",
    "#!/bin/bash\n",
    "\n",
    "fifo=/tmp/mi_fifo\n",
    "\n",
    "i=\"0\"\n",
    "\n",
    "escritor=\"A\"\n",
    "\n",
    "while [ $i -lt 20 ]\n",
    "    \n",
    "    do\n",
    "\n",
    "    echo \"$escritor $i\" >$fifo\n",
    "\n",
    "    i=$[$i+1]\n",
    "\n",
    "    sleep 4s\n",
    "\n",
    "done"
   ]
  },
  {
   "cell_type": "code",
   "execution_count": null,
   "metadata": {
    "collapsed": true
   },
   "outputs": [],
   "source": [
    "#!/bin/bash\n",
    "\n",
    "fifo=/tmp/my_fifo\n",
    "\n",
    "i=\"0\"\n",
    "\n",
    "escritor=\"B\"\n",
    "\n",
    "while [ $i -lt 20 ]\n",
    "\n",
    "    do\n",
    "\n",
    "    echo \"$escritor $i\" >$fifo\n",
    "\n",
    "    i=$[$i+1]\n",
    "\n",
    "    sleep 5s\n",
    "\n",
    "done\n",
    "\n",
    "echo \"quit\" >$fifo"
   ]
  },
  {
   "cell_type": "code",
   "execution_count": 6,
   "metadata": {
    "collapsed": false
   },
   "outputs": [
    {
     "name": "stdout",
     "output_type": "stream",
     "text": [
      "[1] 44\r\n"
     ]
    }
   ],
   "source": [
    "./lector.sh &"
   ]
  },
  {
   "cell_type": "code",
   "execution_count": 7,
   "metadata": {
    "collapsed": false
   },
   "outputs": [
    {
     "name": "stdout",
     "output_type": "stream",
     "text": [
      "[2] 46\r\n"
     ]
    }
   ],
   "source": [
    "./escritor1.sh &"
   ]
  },
  {
   "cell_type": "code",
   "execution_count": 8,
   "metadata": {
    "collapsed": false
   },
   "outputs": [
    {
     "name": "stdout",
     "output_type": "stream",
     "text": [
      "A 1\r\n",
      "A 2\r\n",
      "[3] 53\r\n"
     ]
    }
   ],
   "source": [
    "./escritor2.sh &"
   ]
  },
  {
   "cell_type": "code",
   "execution_count": null,
   "metadata": {
    "collapsed": true
   },
   "outputs": [],
   "source": [
    "ls /tmp -l\n",
    "echo \"-------\"\n",
    "rm /tmp/mi_fifo\n",
    "ls /tmp -l"
   ]
  },
  {
   "cell_type": "code",
   "execution_count": 12,
   "metadata": {
    "collapsed": false
   },
   "outputs": [
    {
     "name": "stdout",
     "output_type": "stream",
     "text": [
      "A 10\r\n",
      "A 11\r\n",
      "A 12\r\n",
      "A 13\r\n",
      "A 14\r\n",
      "A 15\r\n",
      "A 16\r\n",
      "A 17\r\n",
      "A 18\r\n",
      "A 19\r\n",
      "./escritor2.sh: line 20: +1]: command not found\r\n",
      "./escritor2.sh: line 24: syntax error near unexpected token `done'\r\n",
      "./escritor2.sh: line 24: `done'\r\n",
      "\r\n",
      "[2]-  Done                    ./escritor1.sh\r\n",
      "[3]+  Exit 2                  ./escritor2.sh\r\n"
     ]
    }
   ],
   "source": [
    "echo\"\""
   ]
  },
  {
   "cell_type": "code",
   "execution_count": null,
   "metadata": {
    "collapsed": true
   },
   "outputs": [],
   "source": []
  }
 ],
 "metadata": {
  "kernelspec": {
   "display_name": "Bash",
   "language": "bash",
   "name": "bash"
  },
  "language_info": {
   "codemirror_mode": "shell",
   "file_extension": ".sh",
   "mimetype": "text/x-sh",
   "name": "bash"
  }
 },
 "nbformat": 4,
 "nbformat_minor": 1
}
