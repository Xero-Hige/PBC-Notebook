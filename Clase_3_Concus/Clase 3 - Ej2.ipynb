{
 "cells": [
  {
   "cell_type": "markdown",
   "metadata": {},
   "source": [
    "# Clase 3"
   ]
  },
  {
   "cell_type": "markdown",
   "metadata": {},
   "source": [
    "#### Ejercicio:\n",
    "Escribir un programa que reciba a través de la línea de comandos la cantidad de procesos hijos que debe crear. Cada proceso hijo debe dormir un numero aleatorio de segundos comprendido entre 0 y 30. El proceso padre debe esperar la terminación de cada uno de sus hijos. A medida que los hijos van terminando, el padre presentará en pantalla el pid de cada uno de ellos y la cantidad de segundos que ha estado durmiendo cada hijo. Hacerlo mediante la utilizacion de memoria compartida"
   ]
  },
  {
   "cell_type": "code",
   "execution_count": 1,
   "metadata": {
    "collapsed": false
   },
   "outputs": [
    {
     "name": "stderr",
     "output_type": "stream",
     "text": []
    },
    {
     "name": "stdout",
     "output_type": "stream",
     "text": [
      "Spawning 3 process\n",
      "Started process with id: 290\n",
      "Started process with id: 291\n",
      "Started process with id: 292\n",
      "Exited 0 after -> 4\n",
      "Kiled 0 after 4\n",
      "Exited 1 after -> 5\n",
      "Exited 2 after -> 5\n",
      "Kiled 1 after 5\n",
      "Kiled 2 after 5\n"
     ]
    }
   ],
   "source": [
    "#define _GNU_SOURCE\n",
    "\n",
    "#include <stdio.h>\n",
    "#include <unistd.h>\n",
    "#include <sys/wait.h>\n",
    "#include <stdlib.h>\n",
    "\n",
    "/*#include <sys/types.h>*/\n",
    "#include <sys/ipc.h>\n",
    "#include <sys/shm.h>\n",
    "\n",
    "#define NUMBER_OF_CHILDS 3\n",
    "#define WAIT_TIME 10\n",
    "\n",
    "long int rndom() {\n",
    "    srand(getpid());\n",
    "    long int result = rand() % WAIT_TIME;\n",
    "    return result;\n",
    "}\n",
    "\n",
    "int main() {\n",
    "    setbuf(stdout, NULL); //Disable stdout buffer\n",
    "\n",
    "    int childs = NUMBER_OF_CHILDS;\n",
    "    printf(\"Spawning %d process\\n\" , childs);\n",
    "    \n",
    "    key_t clave = ftok ( __FILE__ , 'a' );\n",
    "\n",
    "   for (int i = 0; i < childs; i++) {\n",
    "        int pid = fork();\n",
    "\n",
    "        if (pid == 0) {\n",
    "            int shmId = shmget ( clave,sizeof(int)*childs,0644|IPC_CREAT );\n",
    "            int* tmpPtr = (int*) shmat ( shmId,NULL,0 );\n",
    "            \n",
    "            printf(\"Started process with id: %d\\n\" , getpid());\n",
    "            unsigned int s = rndom();\n",
    "            sleep(s);\n",
    "            printf(\"Exited %d after -> %d\\n\",i,s);\n",
    "            \n",
    "            tmpPtr[i] = s;\n",
    "            \n",
    "            shmdt ( (void *) tmpPtr );\n",
    "            \n",
    "            exit(i);\n",
    "        }\n",
    "\n",
    "    }\n",
    "\n",
    "    int shmId = shmget ( clave,sizeof(int)*childs,0644|IPC_CREAT );\n",
    "    int* tmpPtr = (int*) shmat ( shmId,NULL,0 );\n",
    "    \n",
    "    for (int i = 0; i < childs; i++) {\n",
    "        int a;\n",
    "        wait(&a);\n",
    "        printf(\"Kiled %d after %d\\n\",WEXITSTATUS(a),tmpPtr[WEXITSTATUS(a)]);\n",
    "    }\n",
    "    \n",
    "    shmdt ( (void *) tmpPtr );\n",
    "    shmctl ( shmId,IPC_RMID,NULL );\n",
    "    \n",
    "    return 0;\n",
    "}"
   ]
  },
  {
   "cell_type": "code",
   "execution_count": 1,
   "metadata": {
    "collapsed": false
   },
   "outputs": [
    {
     "name": "stdout",
     "output_type": "stream",
     "text": [
      "\r\n",
      "------ Message Queues --------\r\n",
      "key        msqid      owner      perms      used-bytes   messages    \r\n",
      "\r\n",
      "------ Shared Memory Segments --------\r\n",
      "key        shmid      owner      perms      bytes      nattch     status      \r\n",
      "\r\n",
      "------ Semaphore Arrays --------\r\n",
      "key        semid      owner      perms      nsems     \r\n",
      "\r\n"
     ]
    }
   ],
   "source": [
    "ipcs"
   ]
  }
 ],
 "metadata": {
  "kernelspec": {
   "display_name": "Bash",
   "language": "bash",
   "name": "bash"
  },
  "language_info": {
   "codemirror_mode": "shell",
   "file_extension": ".sh",
   "mimetype": "text/x-sh",
   "name": "bash"
  }
 },
 "nbformat": 4,
 "nbformat_minor": 1
}
