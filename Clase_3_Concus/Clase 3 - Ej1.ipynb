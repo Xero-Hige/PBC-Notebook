{
 "cells": [
  {
   "cell_type": "markdown",
   "metadata": {},
   "source": [
    "# Clase 3"
   ]
  },
  {
   "cell_type": "markdown",
   "metadata": {},
   "source": [
    "#### Ejercicio:\n",
    "Escribir un programa que reciba a través de la línea de comandos la cantidad de procesos hijos que debe crear. Cada proceso hijo debe dormir un numero aleatorio de segundos comprendido entre 0 y 30. El proceso padre debe esperar la terminación de cada uno de sus hijos. A medida que los hijos van terminando, el padre presentará en pantalla el pid de cada uno de ellos y la cantidad de segundos que ha estado durmiendo cada hijo."
   ]
  },
  {
   "cell_type": "code",
   "execution_count": 1,
   "metadata": {
    "collapsed": false
   },
   "outputs": [
    {
     "name": "stderr",
     "output_type": "stream",
     "text": []
    },
    {
     "name": "stdout",
     "output_type": "stream",
     "text": [
      "Spawning 3 process\n",
      "Started process with id: 334\n",
      "Started process with id: 335\n",
      "Started process with id: 336\n",
      "Exited 335 after -> 6\n",
      "Exited 334 after -> 6\n",
      "Exited 336 after -> 6\n",
      "Kiled 1 after 1536 (6)\n",
      "Kiled 2 after 1536 (6)\n",
      "Kiled 3 after 1536 (6)\n"
     ]
    }
   ],
   "source": [
    "#include <stdio.h>\n",
    "#include <unistd.h>\n",
    "#include <sys/wait.h>\n",
    "#include <stdlib.h>\n",
    "\n",
    "#define NUMBER_OF_CHILDS 3\n",
    "#define WAIT_TIME 10\n",
    "\n",
    "long int rndom() {\n",
    "    srand(getpid());\n",
    "    long int result = rand() % WAIT_TIME;\n",
    "    return result;\n",
    "}\n",
    "\n",
    "int main() {\n",
    "    setbuf(stdout, NULL); //Disable stdout buffer\n",
    "\n",
    "    int childs = NUMBER_OF_CHILDS;\n",
    "    printf(\"Spawning %d process\\n\" , childs);\n",
    "    \n",
    "    for (int i = 0; i < childs; i++) {\n",
    "        int pid = fork();\n",
    "\n",
    "        if (pid == 0) {\n",
    "            printf(\"Started process with id: %d\\n\" , getpid());\n",
    "            unsigned int s = rndom();\n",
    "            sleep(s);\n",
    "            printf(\"Exited %d after -> %d\\n\",getpid(),s);\n",
    "            exit(s);\n",
    "        }\n",
    "\n",
    "    }\n",
    "\n",
    "    for (int i = 0; i < childs; i++) {\n",
    "        unsigned int a;\n",
    "        wait(&a);\n",
    "        printf(\"Kiled %d after %d (%d)\\n\",i + 1,a,WEXITSTATUS(a));\n",
    "    }\n",
    "\n",
    "    return 0;\n",
    "}"
   ]
  },
  {
   "cell_type": "code",
   "execution_count": 2,
   "metadata": {
    "collapsed": false
   },
   "outputs": [
    {
     "name": "stderr",
     "output_type": "stream",
     "text": []
    },
    {
     "name": "stdout",
     "output_type": "stream",
     "text": [
      "Spawning 10 process\n",
      "Started process with id: 343\n",
      "Started process with id: 344\n",
      "Started process with id: 345\n",
      "Exited 345 after -> 0\n",
      "Started process with id: 346\n",
      "Started process with id: 348\n",
      "Started process with id: 347\n",
      "Started process with id: 349\n",
      "Exited 347 after -> 0\n",
      "Started process with id: 350\n",
      "Started process with id: 351\n",
      "Kiled 1 after 0 (0)\n",
      "Started process with id: 352\n",
      "Kiled 2 after 0 (0)\n",
      "Exited 349 after -> 1\n",
      "Exited 350 after -> 1\n",
      "Exited 351 after -> 1\n",
      "Exited 352 after -> 1\n",
      "Kiled 3 after 256 (1)\n",
      "Kiled 4 after 256 (1)\n",
      "Kiled 5 after 256 (1)\n",
      "Kiled 6 after 256 (1)\n",
      "Exited 343 after -> 2\n",
      "Exited 344 after -> 2\n",
      "Exited 346 after -> 2\n",
      "Exited 348 after -> 2\n",
      "Kiled 7 after 512 (2)\n",
      "Kiled 8 after 512 (2)\n",
      "Kiled 9 after 512 (2)\n",
      "Kiled 10 after 512 (2)\n"
     ]
    }
   ],
   "source": [
    "#include <stdio.h>\n",
    "#include <unistd.h>\n",
    "#include <sys/wait.h>\n",
    "#include <stdlib.h>\n",
    "\n",
    "#define NUMBER_OF_CHILDS 10\n",
    "#define WAIT_TIME 3\n",
    "\n",
    "long int rndom() {\n",
    "    srand(getpid());\n",
    "    long int result = rand() % WAIT_TIME;\n",
    "    return result;\n",
    "}\n",
    "\n",
    "int main() {\n",
    "    setbuf(stdout, NULL); //Disable stdout buffer\n",
    "\n",
    "    int childs = NUMBER_OF_CHILDS;\n",
    "    printf(\"Spawning %d process\\n\" , childs);\n",
    "    \n",
    "    for (int i = 0; i < childs; i++) {\n",
    "        int pid = fork();\n",
    "\n",
    "        if (pid == 0) {\n",
    "            printf(\"Started process with id: %d\\n\" , getpid());\n",
    "            unsigned int s = rndom();\n",
    "            sleep(s);\n",
    "            printf(\"Exited %d after -> %d\\n\",getpid(),s);\n",
    "            exit(s);\n",
    "        }\n",
    "\n",
    "    }\n",
    "\n",
    "    for (int i = 0; i < childs; i++) {\n",
    "        unsigned int a;\n",
    "        wait(&a);\n",
    "        printf(\"Kiled %d after %d (%d)\\n\",i + 1,a,WEXITSTATUS(a));\n",
    "    }\n",
    "\n",
    "    return 0;\n",
    "}"
   ]
  },
  {
   "cell_type": "code",
   "execution_count": 3,
   "metadata": {
    "collapsed": false
   },
   "outputs": [
    {
     "name": "stderr",
     "output_type": "stream",
     "text": []
    },
    {
     "name": "stdout",
     "output_type": "stream",
     "text": [
      "Spawning 3 process\n",
      "Started process with id: 359\n",
      "Exited 359 after -> 0\n",
      "Started process with id: 360\n",
      "Kiled 1 after 0 (0)\n",
      "Started process with id: 361\n",
      "Exited 360 after -> 5\n",
      "Kiled 2 after 1280 (5)\n",
      "Exited 361 after -> 8\n",
      "Kiled 3 after 2048 (8)\n"
     ]
    }
   ],
   "source": [
    "#include <stdio.h>\n",
    "#include <unistd.h>\n",
    "#include <sys/wait.h>\n",
    "#include <stdlib.h>\n",
    "\n",
    "#define NUMBER_OF_CHILDS 3\n",
    "#define WAIT_TIME 10\n",
    "\n",
    "long int rndom() {\n",
    "    srand(getpid());\n",
    "    long int result = rand() % WAIT_TIME;\n",
    "    return result;\n",
    "}\n",
    "\n",
    "int main() {\n",
    "    setbuf(stdout, NULL); //Disable stdout buffer\n",
    "\n",
    "    int childs = NUMBER_OF_CHILDS;\n",
    "    printf(\"Spawning %d process\\n\" , childs);\n",
    "    \n",
    "    for (int i = 0; i < childs; i++) {\n",
    "        int pid = fork();\n",
    "\n",
    "        if (pid == 0) {\n",
    "            printf(\"Started process with id: %d\\n\" , getpid());\n",
    "            unsigned int s = rndom();\n",
    "            sleep(s);\n",
    "            printf(\"Exited %d after -> %d\\n\",getpid(),s);\n",
    "            exit(s);\n",
    "        }\n",
    "\n",
    "    }\n",
    "\n",
    "    for (int i = 0; i < childs; i++) {\n",
    "        unsigned int a;\n",
    "        wait(&a);\n",
    "        printf(\"Kiled %d after %d (%d)\\n\",i + 1,a,WEXITSTATUS(a));\n",
    "    }\n",
    "\n",
    "    return 0;\n",
    "}"
   ]
  },
  {
   "cell_type": "code",
   "execution_count": 4,
   "metadata": {
    "collapsed": false
   },
   "outputs": [
    {
     "name": "stderr",
     "output_type": "stream",
     "text": []
    },
    {
     "name": "stdout",
     "output_type": "stream",
     "text": [
      "Spawning 10 process\n",
      "Started process with id: 368\n",
      "Started process with id: 370\n",
      "Started process with id: 371\n",
      "Started process with id: 369\n",
      "Started process with id: 372\n",
      "Started process with id: 374\n",
      "Started process with id: 375\n",
      "Started process with id: 376\n",
      "Started process with id: 373\n",
      "Started process with id: 377\n",
      "Exited 368 after -> 1\n",
      "Exited 371 after -> 1\n",
      "Kiled 1 after 256 (1)\n",
      "Kiled 2 after 256 (1)\n",
      "Exited 373 after -> 1\n",
      "Kiled 3 after 256 (1)\n",
      "Exited 370 after -> 2\n",
      "Kiled 4 after 512 (2)\n",
      "Exited 377 after -> 3\n",
      "Kiled 5 after 768 (3)\n",
      "Exited 374 after -> 4\n",
      "Exited 375 after -> 4\n",
      "Kiled 6 after 1024 (4)\n",
      "Kiled 7 after 1024 (4)\n",
      "Exited 372 after -> 5\n",
      "Exited 369 after -> 5\n",
      "Kiled 8 after 1280 (5)\n",
      "Kiled 9 after 1280 (5)\n",
      "Exited 376 after -> 6\n",
      "Kiled 10 after 1536 (6)\n"
     ]
    }
   ],
   "source": [
    "#include <stdio.h>\n",
    "#include <unistd.h>\n",
    "#include <sys/wait.h>\n",
    "#include <stdlib.h>\n",
    "\n",
    "#define NUMBER_OF_CHILDS 10\n",
    "#define WAIT_TIME 10\n",
    "\n",
    "long int rndom() {\n",
    "    srand(getpid());\n",
    "    long int result = rand() % WAIT_TIME;\n",
    "    return result;\n",
    "}\n",
    "\n",
    "int main() {\n",
    "    setbuf(stdout, NULL); //Disable stdout buffer\n",
    "\n",
    "    int childs = NUMBER_OF_CHILDS;\n",
    "    printf(\"Spawning %d process\\n\" , childs);\n",
    "    \n",
    "    for (int i = 0; i < childs; i++) {\n",
    "        int pid = fork();\n",
    "\n",
    "        if (pid == 0) {\n",
    "            printf(\"Started process with id: %d\\n\" , getpid());\n",
    "            unsigned int s = rndom();\n",
    "            sleep(s);\n",
    "            printf(\"Exited %d after -> %d\\n\",getpid(),s);\n",
    "            exit(s);\n",
    "        }\n",
    "\n",
    "    }\n",
    "\n",
    "    for (int i = 0; i < childs; i++) {\n",
    "        unsigned int a;\n",
    "        wait(&a);\n",
    "        printf(\"Kiled %d after %d (%d)\\n\",i + 1,a,WEXITSTATUS(a));\n",
    "    }\n",
    "\n",
    "    return 0;\n",
    "}"
   ]
  }
 ],
 "metadata": {
  "kernelspec": {
   "display_name": "C",
   "language": "c",
   "name": "c_kernel"
  },
  "language_info": {
   "file_extension": "c",
   "mimetype": "text/plain",
   "name": "c"
  }
 },
 "nbformat": 4,
 "nbformat_minor": 1
}
