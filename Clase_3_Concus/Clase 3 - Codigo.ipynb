{
 "cells": [
  {
   "cell_type": "code",
   "execution_count": null,
   "metadata": {
    "collapsed": false
   },
   "outputs": [],
   "source": [
    "int calcularRandom ();\n",
    "\n",
    "int main () {\n",
    "\n",
    "    pid_t procId = fork ();\n",
    "\n",
    "    if ( procId == 0 ) {\n",
    "\n",
    "        string archivo ( \"main1.cc\" );\n",
    "        MemoriaCompartida<int> memoria;\n",
    "        int estadoMemoria = memoria.crear ( archivo,'R' );\n",
    "\n",
    "        cout << \"Hijo: duermo 5 segundos...\" << endl;\n",
    "        sleep ( 5 );"
   ]
  },
  {
   "cell_type": "markdown",
   "metadata": {
    "collapsed": false
   },
   "source": [
    "* Es proceso hijo por el pid\n",
    "* Obtenemos un objeto string de contenido \"main.cc\". Para que? Por que?\n",
    "* Que corno es el `<int>`?\n",
    "* No entendi, que hace el crear?\n",
    "* Eu, ahi hay un sleep"
   ]
  },
  {
   "cell_type": "code",
   "execution_count": null,
   "metadata": {
    "collapsed": false
   },
   "outputs": [],
   "source": [
    "        if ( estadoMemoria == SHM_OK ) {\n",
    "            int resultado = memoria.leer ();\n",
    "            cout << \"Hijo: leo el numero \" << resultado << \" de la memoria compartida\" << endl;\n",
    "            memoria.liberar ();\n",
    "        } else {\n",
    "            cout << \"Hijo: error en memoria compartida: \" << estadoMemoria << endl;\n",
    "        }\n",
    "        cout << \"Hijo: fin del proceso\" << endl;\n",
    "        exit ( 0 );"
   ]
  },
  {
   "cell_type": "markdown",
   "metadata": {},
   "source": [
    "* Ah, manejo de errores\n",
    "* Leer y mostrar, todo bien"
   ]
  },
  {
   "cell_type": "code",
   "execution_count": null,
   "metadata": {
    "collapsed": false
   },
   "outputs": [],
   "source": [
    "    } else {\n",
    "\n",
    "        string archivo ( \"main1.cc\" );\n",
    "        MemoriaCompartida<int> memoria;\n",
    "        int estadoMemoria = memoria.crear ( archivo,'R' );\n",
    "        if ( estadoMemoria == SHM_OK ) {\n",
    "\n",
    "            // escribe un dato para el hijo\n",
    "            int random = calcularRandom ();\n",
    "            cout << \"Padre: escribo el numero \" << random << \" en la memoria compartida\" << endl;\n",
    "            memoria.escribir ( random );\n",
    "\n",
    "            // espera a que termine el hijo\n",
    "            wait ( NULL );\n",
    "            // libera la memoria\n",
    "            memoria.liberar ();\n",
    "        } else {\n",
    "            cout << \"Padre: error en memoria compartida: \" << estadoMemoria << endl;\n",
    "        }\n",
    "\n",
    "        cout << \"Padre: fin del proceso\" << endl;\n",
    "        exit ( 0 );\n",
    "\n",
    "    }"
   ]
  },
  {
   "cell_type": "markdown",
   "metadata": {},
   "source": [
    "* Libere todo, todo legal\n",
    "* Nada distinto o raro de lo que paso con el hijo"
   ]
  },
  {
   "cell_type": "code",
   "execution_count": 1,
   "metadata": {
    "collapsed": false
   },
   "outputs": [
    {
     "name": "stdout",
     "output_type": "stream",
     "text": [
      "g++ main1.cc -std=c++11 -D EJEMPLO_1 -o ejemplo\r\n",
      "Padre: escribo el numero 9 en la memoria compartida\r\n",
      "Hijo: duermo 5 segundos...\r\n",
      "Hijo: leo el numero 9 de la memoria compartida\r\n",
      "Hijo: fin del proceso\r\n",
      "Padre: fin del proceso\r\n"
     ]
    }
   ],
   "source": [
    "make ej1\n",
    "./ejemplo"
   ]
  },
  {
   "cell_type": "code",
   "execution_count": 2,
   "metadata": {
    "collapsed": false
   },
   "outputs": [
    {
     "name": "stdout",
     "output_type": "stream",
     "text": [
      "\r\n",
      "------ Message Queues --------\r\n",
      "key        msqid      owner      perms      used-bytes   messages    \r\n",
      "\r\n",
      "------ Shared Memory Segments --------\r\n",
      "key        shmid      owner      perms      bytes      nattch     status      \r\n",
      "\r\n",
      "------ Semaphore Arrays --------\r\n",
      "key        semid      owner      perms      nsems     \r\n",
      "\r\n"
     ]
    }
   ],
   "source": [
    "ipcs"
   ]
  },
  {
   "cell_type": "code",
   "execution_count": null,
   "metadata": {
    "collapsed": true
   },
   "outputs": [],
   "source": [
    "#ifndef MEMORIACOMPARTIDA_H_\n",
    "#define MEMORIACOMPARTIDA_H_\n",
    "\n",
    "#define SHM_OK  0\n",
    "#define ERROR_FTOK -1\n",
    "#define ERROR_SHMGET -2\n",
    "#define ERROR_SHMAT -3\n",
    "\n",
    "#include <sys/types.h>\n",
    "#include <sys/ipc.h>\n",
    "#include <sys/shm.h>\n",
    "#include <string>\n",
    "\n",
    "\n",
    "template <class T> class MemoriaCompartida {\n",
    "\n",
    "private:\n",
    "    int shmId;\n",
    "    T*    ptrDatos;\n",
    "\n",
    "    int cantidadProcesosAdosados () const;\n",
    "\n",
    "public:\n",
    "    MemoriaCompartida ();\n",
    "    ~MemoriaCompartida ();\n",
    "    int crear ( const std::string& archivo,const char letra );\n",
    "    void liberar ();\n",
    "    void escribir ( const T& dato );\n",
    "    T leer () const;\n",
    "\n",
    "};\n"
   ]
  },
  {
   "cell_type": "markdown",
   "metadata": {
    "collapsed": true
   },
   "source": [
    "`const` after a function declaration means that the function is not allowed to change any class members (except ones that are marked `mutable`). So this use of const only makes sense, and is hence only allowed, for member functions."
   ]
  },
  {
   "cell_type": "code",
   "execution_count": null,
   "metadata": {
    "collapsed": false
   },
   "outputs": [],
   "source": [
    "template <class T> MemoriaCompartida<T> :: MemoriaCompartida() : shmId(0), ptrDatos(NULL) {\n",
    "}"
   ]
  },
  {
   "cell_type": "code",
   "execution_count": null,
   "metadata": {
    "collapsed": true
   },
   "outputs": [],
   "source": [
    "template <class T> int MemoriaCompartida<T> :: crear ( const std::string& archivo,const char letra ) {\n",
    "\n",
    "    // generacion de la clave\n",
    "    key_t clave = ftok ( archivo.c_str(),letra );\n",
    "    if ( clave == -1 )\n",
    "        return ERROR_FTOK;\n",
    "    else {\n",
    "        // creacion de la memoria compartida\n",
    "        this->shmId = shmget ( clave,sizeof(T),0644|IPC_CREAT );\n",
    "\n",
    "        if ( this->shmId == -1 )\n",
    "            return ERROR_SHMGET;\n",
    "        else {\n",
    "            // attach del bloque de memoria al espacio de direcciones del proceso\n",
    "            void* ptrTemporal = shmat ( this->shmId,NULL,0 );\n",
    "\n",
    "            if ( ptrTemporal == (void *) -1 ) {\n",
    "                return ERROR_SHMAT;\n",
    "            } else {\n",
    "                this->ptrDatos = static_cast<T*> (ptrTemporal);\n",
    "                return SHM_OK;\n",
    "            }\n",
    "        }\n",
    "    }\n",
    "}"
   ]
  },
  {
   "cell_type": "code",
   "execution_count": null,
   "metadata": {
    "collapsed": true
   },
   "outputs": [],
   "source": []
  },
  {
   "cell_type": "code",
   "execution_count": null,
   "metadata": {
    "collapsed": true
   },
   "outputs": [],
   "source": [
    "template <class T> void MemoriaCompartida<T> :: liberar () {\n",
    "    // detach del bloque de memoria\n",
    "    shmdt ( static_cast<void*> (this->ptrDatos) );\n",
    "\n",
    "    int procAdosados = this->cantidadProcesosAdosados ();\n",
    "\n",
    "    if ( procAdosados == 0 ) {\n",
    "        shmctl ( this->shmId,IPC_RMID,NULL );\n",
    "    }\n",
    "}\n",
    "\n",
    "template <class T> void MemoriaCompartida<T> :: escribir ( const T& dato ) {\n",
    "    * (this->ptrDatos) = dato;\n",
    "}\n",
    "\n",
    "template <class T> T MemoriaCompartida<T> :: leer () const {\n",
    "    return ( *(this->ptrDatos) );\n",
    "}\n",
    "\n",
    "template <class T> int MemoriaCompartida<T> :: cantidadProcesosAdosados () const {\n",
    "    shmid_ds estado;\n",
    "    shmctl ( this->shmId,IPC_STAT,&estado );\n",
    "    return estado.shm_nattch;\n",
    "}\n"
   ]
  },
  {
   "cell_type": "code",
   "execution_count": null,
   "metadata": {
    "collapsed": true
   },
   "outputs": [],
   "source": []
  },
  {
   "cell_type": "code",
   "execution_count": null,
   "metadata": {
    "collapsed": true
   },
   "outputs": [],
   "source": []
  },
  {
   "cell_type": "code",
   "execution_count": null,
   "metadata": {
    "collapsed": true
   },
   "outputs": [],
   "source": []
  },
  {
   "cell_type": "code",
   "execution_count": null,
   "metadata": {
    "collapsed": true
   },
   "outputs": [],
   "source": []
  },
  {
   "cell_type": "code",
   "execution_count": null,
   "metadata": {
    "collapsed": true
   },
   "outputs": [],
   "source": []
  },
  {
   "cell_type": "code",
   "execution_count": null,
   "metadata": {
    "collapsed": true
   },
   "outputs": [],
   "source": []
  },
  {
   "cell_type": "code",
   "execution_count": null,
   "metadata": {
    "collapsed": true
   },
   "outputs": [],
   "source": []
  }
 ],
 "metadata": {
  "kernelspec": {
   "display_name": "C",
   "language": "c",
   "name": "c_kernel"
  },
  "language_info": {
   "file_extension": "c",
   "mimetype": "text/plain",
   "name": "c"
  }
 },
 "nbformat": 4,
 "nbformat_minor": 1
}
