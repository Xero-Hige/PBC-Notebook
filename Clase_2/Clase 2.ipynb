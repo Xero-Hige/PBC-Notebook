{
 "cells": [
  {
   "cell_type": "markdown",
   "metadata": {},
   "source": [
    "# Clase 2"
   ]
  },
  {
   "cell_type": "markdown",
   "metadata": {},
   "source": [
    "#### Ejercicio:\n",
    "Escribir un programa que reciba a través de la línea de comandos la cantidad de procesos hijos que debe crear. Cada proceso hijo debe dormir un numero aleatorio de segundos comprendido entre 0 y 30. El proceso padre debe esperar la terminación de cada uno de sus hijos. A medida que los hijos van terminando, el padre presentará en pantalla el pid de cada uno de ellos y la cantidad de segundos que ha estado durmiendo cada hijo."
   ]
  },
  {
   "cell_type": "code",
   "execution_count": 1,
   "metadata": {
    "collapsed": false
   },
   "outputs": [
    {
     "name": "stderr",
     "output_type": "stream",
     "text": []
    },
    {
     "name": "stdout",
     "output_type": "stream",
     "text": [
      "Spawning 3 process\n",
      "Started process with id: 149\n",
      "Sleeping 149 for: 1 seconds\n",
      "Started process with id: 151\n",
      "Started process with id: 150\n",
      "Sleeping 151 for: 18 seconds\n",
      "Sleeping 150 for: 3 seconds\n",
      "Kiled 149 -> 1 seconds\n",
      "Kiled 150 -> 3 seconds\n",
      "Kiled 151 -> 18 seconds\n"
     ]
    }
   ],
   "source": [
    "#include <stdio.h>\n",
    "#include <unistd.h>\n",
    "#include <sys/wait.h>\n",
    "#include <stdlib.h>\n",
    "\n",
    "#define NUMBER_OF_CHILDS 3\n",
    "#define WAIT_TIME 20\n",
    "\n",
    "\n",
    "\n",
    "long int rndom() {\n",
    "    srand(getpid());\n",
    "    long int result = rand() % WAIT_TIME;\n",
    "    return result;\n",
    "}\n",
    "\n",
    "int main() {\n",
    "    setbuf(stdout, NULL); //Disable stdout buffer\n",
    "\n",
    "    int childs = NUMBER_OF_CHILDS;\n",
    "    printf(\"Spawning %d process\\n\" , childs);\n",
    "    \n",
    "    int process [NUMBER_OF_CHILDS];\n",
    "    \n",
    "    for (int i = 0; i < childs; i++) {\n",
    "        int pid = fork();\n",
    "\n",
    "        if (pid == 0) {\n",
    "            printf(\"Started process with id: %d\\n\" , getpid());\n",
    "            unsigned int s = rndom();\n",
    "            printf(\"Sleeping %d for: %d seconds\\n\",getpid(),s);\n",
    "            sleep(s);\n",
    "            \n",
    "            exit(s);\n",
    "        }\n",
    "        \n",
    "        process[i] = pid;\n",
    "\n",
    "    }\n",
    "\n",
    "    for (int i = 0; i < childs; i++) {\n",
    "        int status;\n",
    "        int pid = wait(&status);\n",
    "        printf(\"Kiled %d -> %d seconds\\n\",pid,WEXITSTATUS(status));\n",
    "    }\n",
    "\n",
    "    return 0;\n",
    "}"
   ]
  },
  {
   "cell_type": "code",
   "execution_count": 2,
   "metadata": {
    "collapsed": false
   },
   "outputs": [
    {
     "name": "stderr",
     "output_type": "stream",
     "text": []
    },
    {
     "name": "stdout",
     "output_type": "stream",
     "text": [
      "Spawning 10 process\n",
      "Started process with id: 158\n",
      "Started process with id: 161\n",
      "Started process with id: 159\n",
      "Started process with id: 160\n",
      "Started process with id: 163\n",
      "Started process with id: 162\n",
      "Started process with id: 164\n",
      "Started process with id: 165\n",
      "Started process with id: 166\n",
      "Started process with id: 167\n",
      "Exited 158 after -> 1\n",
      "Exited 159 after -> 1\n",
      "Kiled 1\n",
      "Exited 162 after -> 1\n",
      "Kiled 2\n",
      "Kiled 3\n",
      "Exited 163 after -> 2\n",
      "Kiled 4\n",
      "Exited 161 after -> 3\n",
      "Exited 160 after -> 3\n",
      "Kiled 5\n",
      "Exited 165 after -> 3\n",
      "Exited 164 after -> 3\n",
      "Kiled 6\n",
      "Exited 166 after -> 3\n",
      "Kiled 7\n",
      "Kiled 8\n",
      "Exited 167 after -> 3\n",
      "Kiled 9\n",
      "Kiled 10\n"
     ]
    }
   ],
   "source": [
    "#include <stdio.h>\n",
    "#include <unistd.h>\n",
    "#include <sys/wait.h>\n",
    "#include <stdlib.h>\n",
    "\n",
    "#define NUMBER_OF_CHILDS 10\n",
    "#define WAIT_TIME 3\n",
    "\n",
    "long int rndom() {\n",
    "    srand(getpid());\n",
    "    long int result = rand() % WAIT_TIME + 1;\n",
    "    return result;\n",
    "}\n",
    "\n",
    "int main() {\n",
    "    setbuf(stdout, NULL); //Disable stdout buffer\n",
    "\n",
    "    int childs = NUMBER_OF_CHILDS;\n",
    "    printf(\"Spawning %d process\\n\" , childs);\n",
    "    \n",
    "    for (int i = 0; i < childs; i++) {\n",
    "        int pid = fork();\n",
    "\n",
    "        if (pid == 0) {\n",
    "            printf(\"Started process with id: %d\\n\" , getpid());\n",
    "            unsigned int s = rndom();\n",
    "            sleep(s);\n",
    "            printf(\"Exited %d after -> %d\\n\",getpid(),s);\n",
    "            exit(0);\n",
    "        }\n",
    "\n",
    "    }\n",
    "\n",
    "    for (int i = 0; i < childs; i++) {\n",
    "        wait(NULL);\n",
    "        printf(\"Kiled %d\\n\",i + 1);\n",
    "    }\n",
    "\n",
    "    return 0;\n",
    "}"
   ]
  },
  {
   "cell_type": "code",
   "execution_count": 3,
   "metadata": {
    "collapsed": false
   },
   "outputs": [
    {
     "name": "stderr",
     "output_type": "stream",
     "text": []
    },
    {
     "name": "stdout",
     "output_type": "stream",
     "text": [
      "Spawning 3 process\n",
      "Started process with id: 174\n",
      "Started process with id: 175\n",
      "Started process with id: 176\n",
      "Exited 175 after -> 1\n",
      "Kiled 1\n",
      "Exited 176 after -> 7\n",
      "Kiled 2\n",
      "Exited 174 after -> 9\n",
      "Kiled 3\n"
     ]
    }
   ],
   "source": [
    "#include <stdio.h>\n",
    "#include <unistd.h>\n",
    "#include <sys/wait.h>\n",
    "#include <stdlib.h>\n",
    "\n",
    "#define NUMBER_OF_CHILDS 3\n",
    "#define WAIT_TIME 10\n",
    "\n",
    "long int rndom() {\n",
    "    srand(getpid());\n",
    "    long int result = rand() % WAIT_TIME + 1;\n",
    "    return result;\n",
    "}\n",
    "\n",
    "int main() {\n",
    "    setbuf(stdout, NULL); //Disable stdout buffer\n",
    "\n",
    "    int childs = NUMBER_OF_CHILDS;\n",
    "    printf(\"Spawning %d process\\n\" , childs);\n",
    "    \n",
    "    for (int i = 0; i < childs; i++) {\n",
    "        int pid = fork();\n",
    "\n",
    "        if (pid == 0) {\n",
    "            printf(\"Started process with id: %d\\n\" , getpid());\n",
    "            unsigned int s = rndom();\n",
    "            sleep(s);\n",
    "            printf(\"Exited %d after -> %d\\n\",getpid(),s);\n",
    "            exit(0);\n",
    "        }\n",
    "\n",
    "    }\n",
    "\n",
    "    for (int i = 0; i < childs; i++) {\n",
    "        wait(NULL);\n",
    "        printf(\"Kiled %d\\n\",i + 1);\n",
    "    }\n",
    "\n",
    "    return 0;\n",
    "}"
   ]
  },
  {
   "cell_type": "code",
   "execution_count": 4,
   "metadata": {
    "collapsed": false
   },
   "outputs": [
    {
     "name": "stderr",
     "output_type": "stream",
     "text": []
    },
    {
     "name": "stdout",
     "output_type": "stream",
     "text": [
      "Spawning 10 process\n",
      "Started process with id: 183\n",
      "Started process with id: 184\n",
      "Started process with id: 185\n",
      "Started process with id: 188\n",
      "Started process with id: 186\n",
      "Started process with id: 189\n",
      "Started process with id: 187\n",
      "Started process with id: 191\n",
      "Started process with id: 190\n",
      "Started process with id: 192\n",
      "Exited 183 after -> 3\n",
      "Kiled 1\n",
      "Exited 190 after -> 3\n",
      "Exited 192 after -> 3\n",
      "Kiled 2\n",
      "Kiled 3\n",
      "Exited 189 after -> 4\n",
      "Exited 186 after -> 4\n",
      "Kiled 4\n",
      "Kiled 5\n",
      "Exited 184 after -> 6\n",
      "Kiled 6\n",
      "Exited 187 after -> 7\n",
      "Kiled 7\n",
      "Exited 185 after -> 8\n",
      "Exited 191 after -> 8\n",
      "Kiled 8\n",
      "Kiled 9\n",
      "Exited 188 after -> 10\n",
      "Kiled 10\n"
     ]
    }
   ],
   "source": [
    "#include <stdio.h>\n",
    "#include <unistd.h>\n",
    "#include <sys/wait.h>\n",
    "#include <stdlib.h>\n",
    "\n",
    "#define NUMBER_OF_CHILDS 10\n",
    "#define WAIT_TIME 10\n",
    "\n",
    "long int rndom() {\n",
    "    srand(getpid());\n",
    "    long int result = rand() % WAIT_TIME + 1;\n",
    "    return result;\n",
    "}\n",
    "\n",
    "int main() {\n",
    "    setbuf(stdout, NULL); //Disable stdout buffer\n",
    "\n",
    "    int childs = NUMBER_OF_CHILDS;\n",
    "    printf(\"Spawning %d process\\n\" , childs);\n",
    "    \n",
    "    for (int i = 0; i < childs; i++) {\n",
    "        int pid = fork();\n",
    "\n",
    "        if (pid == 0) {\n",
    "            printf(\"Started process with id: %d\\n\" , getpid());\n",
    "            unsigned int s = rndom();\n",
    "            sleep(s);\n",
    "            printf(\"Exited %d after -> %d\\n\",getpid(),s);\n",
    "            exit(0);\n",
    "        }\n",
    "\n",
    "    }\n",
    "\n",
    "    for (int i = 0; i < childs; i++) {\n",
    "        wait(NULL);\n",
    "        printf(\"Kiled %d\\n\",i + 1);\n",
    "    }\n",
    "\n",
    "    return 0;\n",
    "}"
   ]
  }
 ],
 "metadata": {
  "kernelspec": {
   "display_name": "C",
   "language": "c",
   "name": "c_kernel"
  },
  "language_info": {
   "file_extension": "c",
   "mimetype": "text/plain",
   "name": "c"
  }
 },
 "nbformat": 4,
 "nbformat_minor": 1
}
