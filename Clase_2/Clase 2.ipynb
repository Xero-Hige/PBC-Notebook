{
 "cells": [
  {
   "cell_type": "markdown",
   "metadata": {},
   "source": [
    "# Clase 2"
   ]
  },
  {
   "cell_type": "markdown",
   "metadata": {},
   "source": [
    "#### Ejercicio:\n",
    "Escribir un programa que reciba a través de la línea de comandos la cantidad de procesos hijos que debe crear. Cada proceso hijo debe dormir un numero aleatorio de segundos comprendido entre 0 y 30. El proceso padre debe esperar la terminación de cada uno de sus hijos. A medida que los hijos van terminando, el padre presentará en pantalla el pid de cada uno de ellos y la cantidad de segundos que ha estado durmiendo cada hijo."
   ]
  },
  {
   "cell_type": "code",
   "execution_count": 1,
   "metadata": {
    "collapsed": false
   },
   "outputs": [
    {
     "name": "stderr",
     "output_type": "stream",
     "text": []
    },
    {
     "name": "stdout",
     "output_type": "stream",
     "text": [
      "Spawning 3 process\n",
      "Started process with id: 468\n",
      "Started process with id: 469\n",
      "Started process with id: 467\n",
      "Exited 468 after -> 0\n",
      "Kiled 1\n",
      "Exited 467 after -> 1\n",
      "Kiled 2\n",
      "Exited 469 after -> 2\n",
      "Kiled 3\n"
     ]
    }
   ],
   "source": [
    "#include <stdio.h>\n",
    "#include <unistd.h>\n",
    "#include <sys/wait.h>\n",
    "#include <stdlib.h>\n",
    "\n",
    "#define NUMBER_OF_CHILDS 3\n",
    "#define WAIT_TIME 3\n",
    "\n",
    "long int rndom() {\n",
    "    srand(getpid());\n",
    "    long int result = rand() % WAIT_TIME;\n",
    "    return result;\n",
    "}\n",
    "\n",
    "int main() {\n",
    "    setbuf(stdout, NULL); //Disable stdout buffer\n",
    "\n",
    "    int childs = NUMBER_OF_CHILDS;\n",
    "    printf(\"Spawning %d process\\n\" , childs);\n",
    "    \n",
    "    for (int i = 0; i < childs; i++) {\n",
    "        int pid = fork();\n",
    "\n",
    "        if (pid == 0) {\n",
    "            printf(\"Started process with id: %d\\n\" , getpid());\n",
    "            unsigned int s = rndom();\n",
    "            sleep(s);\n",
    "            printf(\"Exited %d after -> %d\\n\",getpid(),s);\n",
    "            exit(0);\n",
    "        }\n",
    "\n",
    "    }\n",
    "\n",
    "    for (int i = 0; i < childs; i++) {\n",
    "        wait(NULL);\n",
    "        printf(\"Kiled %d\\n\",i + 1);\n",
    "    }\n",
    "\n",
    "    return 0;\n",
    "}"
   ]
  },
  {
   "cell_type": "code",
   "execution_count": 2,
   "metadata": {
    "collapsed": false
   },
   "outputs": [
    {
     "name": "stderr",
     "output_type": "stream",
     "text": []
    },
    {
     "name": "stdout",
     "output_type": "stream",
     "text": [
      "Spawning 10 process\n",
      "Started process with id: 476\n",
      "Started process with id: 477\n",
      "Started process with id: 478\n",
      "Started process with id: 479\n",
      "Started process with id: 480\n",
      "Started process with id: 481\n",
      "Started process with id: 482\n",
      "Started process with id: 483\n",
      "Started process with id: 484\n",
      "Started process with id: 485\n",
      "Exited 483 after -> 1\n",
      "Exited 484 after -> 1\n",
      "Kiled 1\n",
      "Kiled 2\n",
      "Exited 476 after -> 2\n",
      "Exited 478 after -> 2\n",
      "Kiled 3\n",
      "Kiled 4\n",
      "Exited 480 after -> 2\n",
      "Kiled 5\n",
      "Exited 482 after -> 2\n",
      "Kiled 6\n",
      "Exited 485 after -> 2\n",
      "Kiled 7\n",
      "Exited 477 after -> 3\n",
      "Kiled 8\n",
      "Exited 479 after -> 3\n",
      "Kiled 9\n",
      "Exited 481 after -> 3\n",
      "Kiled 10\n"
     ]
    }
   ],
   "source": [
    "#include <stdio.h>\n",
    "#include <unistd.h>\n",
    "#include <sys/wait.h>\n",
    "#include <stdlib.h>\n",
    "\n",
    "#define NUMBER_OF_CHILDS 10\n",
    "#define WAIT_TIME 3\n",
    "\n",
    "long int rndom() {\n",
    "    srand(getpid());\n",
    "    long int result = rand() % WAIT_TIME + 1;\n",
    "    return result;\n",
    "}\n",
    "\n",
    "int main() {\n",
    "    setbuf(stdout, NULL); //Disable stdout buffer\n",
    "\n",
    "    int childs = NUMBER_OF_CHILDS;\n",
    "    printf(\"Spawning %d process\\n\" , childs);\n",
    "    \n",
    "    for (int i = 0; i < childs; i++) {\n",
    "        int pid = fork();\n",
    "\n",
    "        if (pid == 0) {\n",
    "            printf(\"Started process with id: %d\\n\" , getpid());\n",
    "            unsigned int s = rndom();\n",
    "            sleep(s);\n",
    "            printf(\"Exited %d after -> %d\\n\",getpid(),s);\n",
    "            exit(0);\n",
    "        }\n",
    "\n",
    "    }\n",
    "\n",
    "    for (int i = 0; i < childs; i++) {\n",
    "        wait(NULL);\n",
    "        printf(\"Kiled %d\\n\",i + 1);\n",
    "    }\n",
    "\n",
    "    return 0;\n",
    "}"
   ]
  },
  {
   "cell_type": "code",
   "execution_count": 3,
   "metadata": {
    "collapsed": false
   },
   "outputs": [
    {
     "name": "stderr",
     "output_type": "stream",
     "text": []
    },
    {
     "name": "stdout",
     "output_type": "stream",
     "text": [
      "Spawning 3 process\n",
      "Started process with id: 492\n",
      "Started process with id: 493\n",
      "Started process with id: 494\n",
      "Exited 493 after -> 5\n",
      "Exited 494 after -> 5\n",
      "Kiled 1\n",
      "Kiled 2\n",
      "Exited 492 after -> 9\n",
      "Kiled 3\n"
     ]
    }
   ],
   "source": [
    "#include <stdio.h>\n",
    "#include <unistd.h>\n",
    "#include <sys/wait.h>\n",
    "#include <stdlib.h>\n",
    "\n",
    "#define NUMBER_OF_CHILDS 3\n",
    "#define WAIT_TIME 10\n",
    "\n",
    "long int rndom() {\n",
    "    srand(getpid());\n",
    "    long int result = rand() % WAIT_TIME + 1;\n",
    "    return result;\n",
    "}\n",
    "\n",
    "int main() {\n",
    "    setbuf(stdout, NULL); //Disable stdout buffer\n",
    "\n",
    "    int childs = NUMBER_OF_CHILDS;\n",
    "    printf(\"Spawning %d process\\n\" , childs);\n",
    "    \n",
    "    for (int i = 0; i < childs; i++) {\n",
    "        int pid = fork();\n",
    "\n",
    "        if (pid == 0) {\n",
    "            printf(\"Started process with id: %d\\n\" , getpid());\n",
    "            unsigned int s = rndom();\n",
    "            sleep(s);\n",
    "            printf(\"Exited %d after -> %d\\n\",getpid(),s);\n",
    "            exit(0);\n",
    "        }\n",
    "\n",
    "    }\n",
    "\n",
    "    for (int i = 0; i < childs; i++) {\n",
    "        wait(NULL);\n",
    "        printf(\"Kiled %d\\n\",i + 1);\n",
    "    }\n",
    "\n",
    "    return 0;\n",
    "}"
   ]
  },
  {
   "cell_type": "code",
   "execution_count": 4,
   "metadata": {
    "collapsed": false
   },
   "outputs": [
    {
     "name": "stderr",
     "output_type": "stream",
     "text": []
    },
    {
     "name": "stdout",
     "output_type": "stream",
     "text": [
      "Spawning 10 process\n",
      "Started process with id: 502\n",
      "Started process with id: 503\n",
      "Started process with id: 504\n",
      "Started process with id: 501\n",
      "Started process with id: 505\n",
      "Started process with id: 506\n",
      "Started process with id: 508\n",
      "Started process with id: 507\n",
      "Started process with id: 510\n",
      "Started process with id: 509\n",
      "Exited 501 after -> 1\n",
      "Exited 505 after -> 1\n",
      "Exited 510 after -> 1\n",
      "Kiled 1\n",
      "Kiled 2\n",
      "Kiled 3\n",
      "Exited 508 after -> 3\n",
      "Exited 509 after -> 3\n",
      "Kiled 4\n",
      "Kiled 5\n",
      "Exited 507 after -> 5\n",
      "Kiled 6\n",
      "Exited 506 after -> 6\n",
      "Kiled 7\n",
      "Exited 502 after -> 7\n",
      "Kiled 8\n",
      "Exited 503 after -> 8\n",
      "Exited 504 after -> 8\n",
      "Kiled 9\n",
      "Kiled 10\n"
     ]
    }
   ],
   "source": [
    "#include <stdio.h>\n",
    "#include <unistd.h>\n",
    "#include <sys/wait.h>\n",
    "#include <stdlib.h>\n",
    "\n",
    "#define NUMBER_OF_CHILDS 10\n",
    "#define WAIT_TIME 10\n",
    "\n",
    "long int rndom() {\n",
    "    srand(getpid());\n",
    "    long int result = rand() % WAIT_TIME + 1;\n",
    "    return result;\n",
    "}\n",
    "\n",
    "int main() {\n",
    "    setbuf(stdout, NULL); //Disable stdout buffer\n",
    "\n",
    "    int childs = NUMBER_OF_CHILDS;\n",
    "    printf(\"Spawning %d process\\n\" , childs);\n",
    "    \n",
    "    for (int i = 0; i < childs; i++) {\n",
    "        int pid = fork();\n",
    "\n",
    "        if (pid == 0) {\n",
    "            printf(\"Started process with id: %d\\n\" , getpid());\n",
    "            unsigned int s = rndom();\n",
    "            sleep(s);\n",
    "            printf(\"Exited %d after -> %d\\n\",getpid(),s);\n",
    "            exit(0);\n",
    "        }\n",
    "\n",
    "    }\n",
    "\n",
    "    for (int i = 0; i < childs; i++) {\n",
    "        wait(NULL);\n",
    "        printf(\"Kiled %d\\n\",i + 1);\n",
    "    }\n",
    "\n",
    "    return 0;\n",
    "}"
   ]
  }
 ],
 "metadata": {
  "kernelspec": {
   "display_name": "C",
   "language": "c",
   "name": "c_kernel"
  },
  "language_info": {
   "file_extension": "c",
   "mimetype": "text/plain",
   "name": "c"
  }
 },
 "nbformat": 4,
 "nbformat_minor": 1
}
