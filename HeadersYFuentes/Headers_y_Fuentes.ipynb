{
 "cells": [
  {
   "cell_type": "markdown",
   "metadata": {},
   "source": [
    "# Archivos .h y .c\n",
    "## Ejemplos de que como y cuando\n",
    "\n",
    "### Ejemplo 1\n",
    "La forma mas sencilla de agregar codigo que tenemos en otro archivo es incluyendo directamente el \".c\" del mismo. Esto a priori funciona, pero no es una muy buena idea:"
   ]
  },
  {
   "cell_type": "code",
   "execution_count": 1,
   "metadata": {
    "collapsed": false
   },
   "outputs": [
    {
     "name": "stdout",
     "output_type": "stream",
     "text": [
      "#include <stdio.h>\r\n",
      "\r\n",
      "void greet(const char* name){\r\n",
      "\tprintf(\"Hello %s\\n\",name);\r\n",
      "}\r\n"
     ]
    }
   ],
   "source": [
    "cat ./english_greeter.c"
   ]
  },
  {
   "cell_type": "code",
   "execution_count": 2,
   "metadata": {
    "collapsed": false
   },
   "outputs": [
    {
     "name": "stdout",
     "output_type": "stream",
     "text": [
      "#include \"english_greeter.c\"\r\n",
      "\r\n",
      "int main(){\r\n",
      "\tgreet(\"Richard\");\r\n",
      "\treturn 0;\r\n",
      "}\r\n"
     ]
    }
   ],
   "source": [
    "cat ./first_example.c"
   ]
  },
  {
   "cell_type": "code",
   "execution_count": 3,
   "metadata": {
    "collapsed": false
   },
   "outputs": [
    {
     "name": "stdout",
     "output_type": "stream",
     "text": []
    }
   ],
   "source": [
    "gcc -Wall -pedantic first_example.c --std=c99 -o example"
   ]
  },
  {
   "cell_type": "markdown",
   "metadata": {},
   "source": [
    "Como vemos, compila sin errores"
   ]
  },
  {
   "cell_type": "code",
   "execution_count": 4,
   "metadata": {
    "collapsed": false
   },
   "outputs": [
    {
     "name": "stdout",
     "output_type": "stream",
     "text": [
      "Hello Richard\r\n"
     ]
    }
   ],
   "source": [
    "./example"
   ]
  },
  {
   "cell_type": "markdown",
   "metadata": {},
   "source": [
    "Pero eso tiene varios problemas. Por ejemplo, estamos agregando a nuestro codigo cosas que no nos interesan. Mas aun, cosas de la implementacion pueden entrar en conflicto con cosas de nuestro programa. En este caso, la definicion de los macros \"MESSAGE\" conflictuan entre si."
   ]
  },
  {
   "cell_type": "code",
   "execution_count": 5,
   "metadata": {
    "collapsed": false
   },
   "outputs": [
    {
     "name": "stdout",
     "output_type": "stream",
     "text": [
      "#include <stdio.h>\r\n",
      "\r\n",
      "#define MESSAGE \"Hello %s\\n\"\r\n",
      "\r\n",
      "void greet(const char* name){\r\n",
      "\tprintf(MESSAGE,name);\r\n",
      "}\r\n"
     ]
    }
   ],
   "source": [
    "cat ./english_greeter2.c"
   ]
  },
  {
   "cell_type": "code",
   "execution_count": 6,
   "metadata": {
    "collapsed": false
   },
   "outputs": [
    {
     "name": "stdout",
     "output_type": "stream",
     "text": [
      "#include \"english_greeter2.c\"\r\n",
      "\r\n",
      "#define MESSAGE \"Something\"\r\n",
      "\r\n",
      "int main(){\r\n",
      "\tgreet(\"Richard\");\r\n",
      "\treturn 0;\r\n",
      "}\r\n"
     ]
    }
   ],
   "source": [
    "cat ./first_example_b.c"
   ]
  },
  {
   "cell_type": "code",
   "execution_count": 7,
   "metadata": {
    "collapsed": false
   },
   "outputs": [
    {
     "name": "stdout",
     "output_type": "stream",
     "text": [
      "first_example_b.c:3:0: warning: \"MESSAGE\" redefined\r\n",
      " #define MESSAGE \"Something\"\r\n",
      " \r\n",
      "In file included from first_example_b.c:1:0:\r\n",
      "english_greeter2.c:3:0: note: this is the location of the previous definition\r\n",
      " #define MESSAGE \"Hello %s\\n\"\r\n",
      " \r\n"
     ]
    }
   ],
   "source": [
    "gcc -Wall -pedantic first_example_b.c --std=c99 -o example"
   ]
  },
  {
   "cell_type": "markdown",
   "metadata": {},
   "source": [
    "Podemos ver en este caso como ya eso no compila.\n",
    "\n",
    "### Ejemplo 2\n",
    "La forma correcta de hacerlo es utilizando archivos header o `.h`. Por ejemplo"
   ]
  },
  {
   "cell_type": "code",
   "execution_count": 8,
   "metadata": {
    "collapsed": false
   },
   "outputs": [
    {
     "name": "stdout",
     "output_type": "stream",
     "text": [
      "#include \"greeter.h\"\r\n",
      "\r\n",
      "int main(){\r\n",
      "\tgreet(\"Richard\");\r\n",
      "\treturn 0;\r\n",
      "}\r\n"
     ]
    }
   ],
   "source": [
    "cat ./second_example.c"
   ]
  },
  {
   "cell_type": "code",
   "execution_count": 9,
   "metadata": {
    "collapsed": false
   },
   "outputs": [
    {
     "name": "stdout",
     "output_type": "stream",
     "text": [
      "#ifndef GREETER\r\n",
      "#define GREETER\r\n",
      "\r\n",
      "void greet(const char* name);\r\n",
      "\r\n",
      "#endif\r\n"
     ]
    }
   ],
   "source": [
    "cat ./greeter.h"
   ]
  },
  {
   "cell_type": "code",
   "execution_count": 10,
   "metadata": {
    "collapsed": false
   },
   "outputs": [
    {
     "name": "stdout",
     "output_type": "stream",
     "text": [
      "#include <stdio.h>\r\n",
      "\r\n",
      "void greet(const char* name){\r\n",
      "\tprintf(\"Hello %s\\n\",name);\r\n",
      "}\r\n"
     ]
    }
   ],
   "source": [
    "cat ./greeter.c"
   ]
  },
  {
   "cell_type": "code",
   "execution_count": 11,
   "metadata": {
    "collapsed": false
   },
   "outputs": [
    {
     "name": "stdout",
     "output_type": "stream",
     "text": [
      "/tmp/ccwSPEDI.o: In function `main':\r\n",
      "second_example.c:(.text+0xa): undefined reference to `greet'\r\n",
      "collect2: error: ld returned 1 exit status\r\n"
     ]
    }
   ],
   "source": [
    "gcc -Wall -pedantic second_example.c --std=c99 -o example"
   ]
  },
  {
   "cell_type": "markdown",
   "metadata": {},
   "source": [
    "La compilacion de esa manera falla. El compilador sabe que hay una funcion `greet` pero no que hace. ¿Por que? porque al incluir el `.h` es como si definieramos en nuestro `.c` solo el prototipo de la funcion `greet`. Notar que no es el mismo error que si no estuviese la definicion de la funcion:"
   ]
  },
  {
   "cell_type": "code",
   "execution_count": 12,
   "metadata": {
    "collapsed": false
   },
   "outputs": [
    {
     "name": "stdout",
     "output_type": "stream",
     "text": [
      "int main(){\r\n",
      "\tgreet(\"Richard\");\r\n",
      "\treturn 0;\r\n",
      "}\r\n"
     ]
    }
   ],
   "source": [
    "cat ./second_example_b.c"
   ]
  },
  {
   "cell_type": "code",
   "execution_count": 13,
   "metadata": {
    "collapsed": false
   },
   "outputs": [
    {
     "name": "stdout",
     "output_type": "stream",
     "text": [
      "second_example_b.c: In function 'main':\r\n",
      "second_example_b.c:2:2: warning: implicit declaration of function 'greet' [-Wimplicit-function-declaration]\r\n",
      "  greet(\"Richard\");\r\n",
      "  ^~~~~\r\n",
      "/tmp/ccEommY3.o: In function `main':\r\n",
      "second_example_b.c:(.text+0xf): undefined reference to `greet'\r\n",
      "collect2: error: ld returned 1 exit status\r\n"
     ]
    }
   ],
   "source": [
    "gcc -Wall -pedantic second_example_b.c --std=c99 -o example"
   ]
  },
  {
   "cell_type": "markdown",
   "metadata": {},
   "source": [
    "Para poder utilizar nuestros archivos, primero debemos generar el codigo objeto del mismo. En este caso:"
   ]
  },
  {
   "cell_type": "code",
   "execution_count": 14,
   "metadata": {
    "collapsed": false
   },
   "outputs": [
    {
     "name": "stdout",
     "output_type": "stream",
     "text": [
      "#ifndef GREETER\r\n",
      "#define GREETER\r\n",
      "\r\n",
      "void greet(const char* name);\r\n",
      "\r\n",
      "#endif\r\n"
     ]
    }
   ],
   "source": [
    "cat ./greeter.h"
   ]
  },
  {
   "cell_type": "code",
   "execution_count": 15,
   "metadata": {
    "collapsed": false
   },
   "outputs": [
    {
     "name": "stdout",
     "output_type": "stream",
     "text": [
      "#include <stdio.h>\r\n",
      "\r\n",
      "void greet(const char* name){\r\n",
      "\tprintf(\"Hello %s\\n\",name);\r\n",
      "}\r\n"
     ]
    }
   ],
   "source": [
    "cat ./greeter.c"
   ]
  },
  {
   "cell_type": "code",
   "execution_count": 16,
   "metadata": {
    "collapsed": false
   },
   "outputs": [
    {
     "name": "stdout",
     "output_type": "stream",
     "text": []
    }
   ],
   "source": [
    "gcc -Wall -pedantic greeter.c --std=c99 -c "
   ]
  },
  {
   "cell_type": "markdown",
   "metadata": {},
   "source": [
    "El parametro `-c` le dice al compilador que genere el codigo objeto del archivo que estamos pasando. Esto nos va a generar un archivo `.o`. Ahora solo resta decirle al compilador que lo pegue a nuestro codigo principal:"
   ]
  },
  {
   "cell_type": "code",
   "execution_count": 17,
   "metadata": {
    "collapsed": false
   },
   "outputs": [
    {
     "name": "stdout",
     "output_type": "stream",
     "text": []
    }
   ],
   "source": [
    "gcc -Wall -pedantic second_example.c greeter.o --std=c99 -o example"
   ]
  },
  {
   "cell_type": "code",
   "execution_count": 18,
   "metadata": {
    "collapsed": false
   },
   "outputs": [
    {
     "name": "stdout",
     "output_type": "stream",
     "text": [
      "Hello Richard\r\n"
     ]
    }
   ],
   "source": [
    "./example"
   ]
  },
  {
   "cell_type": "markdown",
   "metadata": {},
   "source": [
    "### Ejemplo 3\n",
    "A continuacion, un pequeño ejemplo de como tener separada la implementacion de la definicion nos puede ser util:"
   ]
  },
  {
   "cell_type": "code",
   "execution_count": 24,
   "metadata": {
    "collapsed": false
   },
   "outputs": [
    {
     "name": "stdout",
     "output_type": "stream",
     "text": [
      "#include \"greeter.h\"\r\n",
      "\r\n",
      "int main(){\r\n",
      "\tgreet(\"Richard\");\r\n",
      "\treturn 0;\r\n",
      "}\r\n"
     ]
    }
   ],
   "source": [
    "cat ./third_example.c"
   ]
  },
  {
   "cell_type": "code",
   "execution_count": 25,
   "metadata": {
    "collapsed": false
   },
   "outputs": [
    {
     "name": "stdout",
     "output_type": "stream",
     "text": [
      "#ifndef GREETER\r\n",
      "#define GREETER\r\n",
      "\r\n",
      "void greet(const char* name);\r\n",
      "\r\n",
      "#endif\r\n"
     ]
    }
   ],
   "source": [
    "cat ./greeter.h"
   ]
  },
  {
   "cell_type": "markdown",
   "metadata": {},
   "source": [
    "Ahora vamos a generar codigo objeto de nuestro greeter en ingles:"
   ]
  },
  {
   "cell_type": "code",
   "execution_count": 26,
   "metadata": {
    "collapsed": false
   },
   "outputs": [
    {
     "name": "stdout",
     "output_type": "stream",
     "text": [
      "#include <stdio.h>\r\n",
      "\r\n",
      "void greet(const char* name){\r\n",
      "\tprintf(\"Hello %s\\n\",name);\r\n",
      "}\r\n"
     ]
    }
   ],
   "source": [
    "cat ./english_greeter.c"
   ]
  },
  {
   "cell_type": "code",
   "execution_count": 27,
   "metadata": {
    "collapsed": false
   },
   "outputs": [
    {
     "name": "stdout",
     "output_type": "stream",
     "text": []
    }
   ],
   "source": [
    "gcc -Wall -pedantic english_greeter.c --std=c99 -c -o greeter.o"
   ]
  },
  {
   "cell_type": "code",
   "execution_count": 28,
   "metadata": {
    "collapsed": false
   },
   "outputs": [
    {
     "name": "stdout",
     "output_type": "stream",
     "text": []
    }
   ],
   "source": [
    "gcc -Wall -pedantic third_example.c greeter.o --std=c99 -o example"
   ]
  },
  {
   "cell_type": "code",
   "execution_count": 29,
   "metadata": {
    "collapsed": false
   },
   "outputs": [
    {
     "name": "stdout",
     "output_type": "stream",
     "text": [
      "Hello Richard\r\n"
     ]
    }
   ],
   "source": [
    "./example"
   ]
  },
  {
   "cell_type": "markdown",
   "metadata": {},
   "source": [
    "Notar que compilamos `english_greeter.c` en un archivo llamado `greeter.o`. El codigo objeto no necesariamente se tiene que llamar igual que el archivo fuente.\n",
    "Ahora supongamos que quiero cambiar el idioma de mi programa. Bueno, simplemente compilo utilizando un greeter diferente, por ejemplo uno en español:"
   ]
  },
  {
   "cell_type": "code",
   "execution_count": 30,
   "metadata": {
    "collapsed": false
   },
   "outputs": [
    {
     "name": "stdout",
     "output_type": "stream",
     "text": [
      "#include <stdio.h>\r\n",
      "\r\n",
      "void greet(const char* name){\r\n",
      "\tprintf(\"Hola %s\\n\",name);\r\n",
      "}\r\n"
     ]
    }
   ],
   "source": [
    "cat ./spanish_greeter.c"
   ]
  },
  {
   "cell_type": "code",
   "execution_count": 31,
   "metadata": {
    "collapsed": false
   },
   "outputs": [
    {
     "name": "stdout",
     "output_type": "stream",
     "text": []
    }
   ],
   "source": [
    "gcc -Wall -pedantic spanish_greeter.c --std=c99 -c -o greeter.o"
   ]
  },
  {
   "cell_type": "code",
   "execution_count": 32,
   "metadata": {
    "collapsed": false
   },
   "outputs": [
    {
     "name": "stdout",
     "output_type": "stream",
     "text": []
    }
   ],
   "source": [
    "gcc -Wall -pedantic third_example.c greeter.o --std=c99 -o example"
   ]
  },
  {
   "cell_type": "code",
   "execution_count": 33,
   "metadata": {
    "collapsed": false
   },
   "outputs": [
    {
     "name": "stdout",
     "output_type": "stream",
     "text": [
      "Hola Richard\r\n"
     ]
    }
   ],
   "source": [
    "./example"
   ]
  },
  {
   "cell_type": "markdown",
   "metadata": {},
   "source": [
    "Esto nos permite cambiar facilmente entre una u otra implementacion. Uno podria por ejemlo distribuir los fuentes de este programa y que el usuario compile el programa en un idioma u otro. ¿Como hacer esto? Proximamente en clase..."
   ]
  }
 ],
 "metadata": {
  "kernelspec": {
   "display_name": "Bash",
   "language": "bash",
   "name": "bash"
  },
  "language_info": {
   "codemirror_mode": "shell",
   "file_extension": ".sh",
   "mimetype": "text/x-sh",
   "name": "bash"
  }
 },
 "nbformat": 4,
 "nbformat_minor": 1
}
