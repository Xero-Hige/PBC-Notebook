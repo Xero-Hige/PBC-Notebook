{
 "cells": [
  {
   "cell_type": "markdown",
   "metadata": {},
   "source": [
    "## Tuto (basico y corto) de consola"
   ]
  },
  {
   "cell_type": "markdown",
   "metadata": {},
   "source": [
    "### Ver archivos y carpetas en directorio: \n",
    "* `ls`: Solo linux"
   ]
  },
  {
   "cell_type": "code",
   "execution_count": 1,
   "metadata": {
    "collapsed": false
   },
   "outputs": [
    {
     "name": "stdout",
     "output_type": "stream",
     "text": [
      "TutoConsola.ipynb  cosas.txt   mi_archivo.py\r\n",
      "cosas\t\t   documentos  programas_python\r\n"
     ]
    }
   ],
   "source": [
    "ls"
   ]
  },
  {
   "cell_type": "markdown",
   "metadata": {},
   "source": [
    "* `ls -l` Idem `ls` pero le pedimos que liste con mas informacion"
   ]
  },
  {
   "cell_type": "code",
   "execution_count": 2,
   "metadata": {
    "collapsed": false
   },
   "outputs": [
    {
     "name": "stdout",
     "output_type": "stream",
     "text": [
      "total 28\r\n",
      "-rw-r--r-- 1 root root 8411 Aug 27 03:51 TutoConsola.ipynb\r\n",
      "drwxr-xr-x 2 root root 4096 Aug 27 03:16 cosas\r\n",
      "-rw-r--r-- 1 root root    0 Aug 27 03:17 cosas.txt\r\n",
      "drwxr-xr-x 2 root root 4096 Aug 27 03:16 documentos\r\n",
      "-rw-r--r-- 1 root root   45 Aug 27 03:48 mi_archivo.py\r\n",
      "drwxr-xr-x 2 root root 4096 Aug 27 03:34 programas_python\r\n"
     ]
    }
   ],
   "source": [
    "ls -l"
   ]
  },
  {
   "cell_type": "markdown",
   "metadata": {},
   "source": [
    "* `dir` vale para Linux y Windows\n",
    "\n",
    "_Lo que se muestra por consola con_ **`dir`** _en Windows es mas parecido al resultado del_  **`ls -l`** _en linux_"
   ]
  },
  {
   "cell_type": "code",
   "execution_count": 3,
   "metadata": {
    "collapsed": false
   },
   "outputs": [
    {
     "name": "stdout",
     "output_type": "stream",
     "text": [
      "TutoConsola.ipynb  cosas.txt   mi_archivo.py\r\n",
      "cosas\t\t   documentos  programas_python\r\n"
     ]
    }
   ],
   "source": [
    "dir"
   ]
  },
  {
   "cell_type": "markdown",
   "metadata": {},
   "source": [
    "## Movimiento entre directorios"
   ]
  },
  {
   "cell_type": "markdown",
   "metadata": {},
   "source": [
    "En linux se puede chequear el directorio actual en el que se esta parado con el comando `pwd`. La consola de windows en cambio muesta siempre en el prompt el path completo."
   ]
  },
  {
   "cell_type": "code",
   "execution_count": 4,
   "metadata": {
    "collapsed": false
   },
   "outputs": [
    {
     "name": "stdout",
     "output_type": "stream",
     "text": [
      "/notebook/ManejoConsola\r\n"
     ]
    }
   ],
   "source": [
    "pwd"
   ]
  },
  {
   "cell_type": "markdown",
   "metadata": {},
   "source": [
    "Para moverse entre directorios se utiliza el comando `cd` (lease change directory). Se utiliza de la forma: `cd <nombre_de_la_carpeta>`. Por ejemplo, si listamos podemos ver que tenemos una carpeta con el nombre \"**programas_python**\". Para movernos a ella:"
   ]
  },
  {
   "cell_type": "code",
   "execution_count": 5,
   "metadata": {
    "collapsed": false
   },
   "outputs": [
    {
     "name": "stdout",
     "output_type": "stream",
     "text": [
      "/notebook/ManejoConsola\r\n"
     ]
    }
   ],
   "source": [
    "pwd #Imprimo path actual"
   ]
  },
  {
   "cell_type": "code",
   "execution_count": 6,
   "metadata": {
    "collapsed": false
   },
   "outputs": [
    {
     "name": "stdout",
     "output_type": "stream",
     "text": [
      "TutoConsola.ipynb  cosas.txt   mi_archivo.py\r\n",
      "cosas\t\t   documentos  programas_python\r\n"
     ]
    }
   ],
   "source": [
    "ls #Listo el contenido de la carpeta actual"
   ]
  },
  {
   "cell_type": "code",
   "execution_count": 7,
   "metadata": {
    "collapsed": false
   },
   "outputs": [
    {
     "name": "stdout",
     "output_type": "stream",
     "text": []
    }
   ],
   "source": [
    "cd programas_python #Cambio a la carpeta"
   ]
  },
  {
   "cell_type": "code",
   "execution_count": 8,
   "metadata": {
    "collapsed": false
   },
   "outputs": [
    {
     "name": "stdout",
     "output_type": "stream",
     "text": [
      "/notebook/ManejoConsola/programas_python\r\n"
     ]
    }
   ],
   "source": [
    "pwd #Imprimo el path actual"
   ]
  },
  {
   "cell_type": "code",
   "execution_count": 9,
   "metadata": {
    "collapsed": false
   },
   "outputs": [
    {
     "name": "stdout",
     "output_type": "stream",
     "text": [
      "script_1.py  script_2.py  script_3.py\r\n"
     ]
    }
   ],
   "source": [
    "ls #Listo el contenido de la carpeta"
   ]
  },
  {
   "cell_type": "markdown",
   "metadata": {},
   "source": [
    "### Por que moverse entre los directorios?"
   ]
  },
  {
   "cell_type": "markdown",
   "metadata": {},
   "source": [
    "Ahora puedo ejecutar estos scripts. Por ejemplo, ejecutamos el script_2 (imprime \"Hola munro\")"
   ]
  },
  {
   "cell_type": "code",
   "execution_count": 10,
   "metadata": {
    "collapsed": false
   },
   "outputs": [
    {
     "name": "stdout",
     "output_type": "stream",
     "text": [
      "Hola Munro\r\n"
     ]
    }
   ],
   "source": [
    "python3 script_2.py"
   ]
  },
  {
   "cell_type": "markdown",
   "metadata": {},
   "source": [
    "Funciona (lo encuentra). Se obtiene el mismo resultado que si lo importo desde Python. Notar que no puedo ejecutar \"**mi_archivo.py**\" que estaba en la carpeta anterior"
   ]
  },
  {
   "cell_type": "code",
   "execution_count": 11,
   "metadata": {
    "collapsed": false
   },
   "outputs": [
    {
     "name": "stdout",
     "output_type": "stream",
     "text": [
      "python3: can't open file 'mi_archivo.py': [Errno 2] No such file or directory\r\n"
     ]
    }
   ],
   "source": [
    "python3 mi_archivo.py"
   ]
  },
  {
   "cell_type": "markdown",
   "metadata": {},
   "source": [
    "Para poder ejecutar \"**mi_archivo.py**\" tengo que volver a la carpeta anterior (desde donde partimos). Podemos hacer eso con el comando `cd` y en vez de poner el nombre de una carpeta utilizar `..`."
   ]
  },
  {
   "cell_type": "code",
   "execution_count": 12,
   "metadata": {
    "collapsed": false
   },
   "outputs": [
    {
     "name": "stdout",
     "output_type": "stream",
     "text": [
      "/notebook/ManejoConsola/programas_python\r\n"
     ]
    }
   ],
   "source": [
    "pwd #Imprimo path actual"
   ]
  },
  {
   "cell_type": "code",
   "execution_count": 13,
   "metadata": {
    "collapsed": false
   },
   "outputs": [
    {
     "name": "stdout",
     "output_type": "stream",
     "text": [
      "script_1.py  script_2.py  script_3.py\r\n"
     ]
    }
   ],
   "source": [
    "ls #Listo el contenido de la carpeta actual"
   ]
  },
  {
   "cell_type": "code",
   "execution_count": 14,
   "metadata": {
    "collapsed": false
   },
   "outputs": [
    {
     "name": "stdout",
     "output_type": "stream",
     "text": []
    }
   ],
   "source": [
    "cd .. #Vuelvo a la carpeta anterior"
   ]
  },
  {
   "cell_type": "code",
   "execution_count": 15,
   "metadata": {
    "collapsed": false
   },
   "outputs": [
    {
     "name": "stdout",
     "output_type": "stream",
     "text": [
      "/notebook/ManejoConsola\r\n"
     ]
    }
   ],
   "source": [
    "pwd #Imprimo path actual"
   ]
  },
  {
   "cell_type": "code",
   "execution_count": 16,
   "metadata": {
    "collapsed": false
   },
   "outputs": [
    {
     "name": "stdout",
     "output_type": "stream",
     "text": [
      "TutoConsola.ipynb  cosas.txt   mi_archivo.py\r\n",
      "cosas\t\t   documentos  programas_python\r\n"
     ]
    }
   ],
   "source": [
    "ls #Listo el contenido de la carpeta actual"
   ]
  },
  {
   "cell_type": "markdown",
   "metadata": {},
   "source": [
    "Puedo ahora ejecutar \"**mi_archivo.py**\":"
   ]
  },
  {
   "cell_type": "code",
   "execution_count": 17,
   "metadata": {
    "collapsed": false
   },
   "outputs": [
    {
     "name": "stdout",
     "output_type": "stream",
     "text": [
      "2 + 2 = 4. El conocimiento es poder\r\n"
     ]
    }
   ],
   "source": [
    "python3 mi_archivo.py"
   ]
  },
  {
   "cell_type": "markdown",
   "metadata": {},
   "source": [
    "Pero no \"**script_2.py**\""
   ]
  },
  {
   "cell_type": "code",
   "execution_count": 18,
   "metadata": {
    "collapsed": false
   },
   "outputs": [
    {
     "name": "stdout",
     "output_type": "stream",
     "text": [
      "python3: can't open file 'script_2.py': [Errno 2] No such file or directory\r\n"
     ]
    }
   ],
   "source": [
    "python3 script_2.py"
   ]
  },
  {
   "cell_type": "markdown",
   "metadata": {},
   "source": [
    "## Off-topic:\n",
    "\n",
    "Para ver en linux el contenido de un archivo se puede utilizar el comando `cat`, de la forma `cat <nombre_de_archivo>`. Por ejemplo:"
   ]
  },
  {
   "cell_type": "code",
   "execution_count": 19,
   "metadata": {
    "collapsed": false
   },
   "outputs": [
    {
     "name": "stdout",
     "output_type": "stream",
     "text": [
      "print(\"2 + 2 = 4. El conocimiento es poder\")\r\n"
     ]
    }
   ],
   "source": [
    "cat mi_archivo.py"
   ]
  }
 ],
 "metadata": {
  "kernelspec": {
   "display_name": "Bash",
   "language": "bash",
   "name": "bash"
  },
  "language_info": {
   "codemirror_mode": "shell",
   "file_extension": ".sh",
   "mimetype": "text/x-sh",
   "name": "bash"
  }
 },
 "nbformat": 4,
 "nbformat_minor": 1
}
